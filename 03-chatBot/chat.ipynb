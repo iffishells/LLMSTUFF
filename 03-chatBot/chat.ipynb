{
 "cells": [
  {
   "cell_type": "code",
   "id": "initial_id",
   "metadata": {
    "collapsed": true,
    "ExecuteTime": {
     "end_time": "2024-08-26T18:16:26.951423Z",
     "start_time": "2024-08-26T18:16:26.948558Z"
    }
   },
   "source": [
    "from lib2to3.fixes.fix_input import context\n",
    "\n",
    "from utils import LLMModels\n",
    "from langchain_core.prompts import ChatPromptTemplate\n"
   ],
   "outputs": [],
   "execution_count": 5
  },
  {
   "metadata": {
    "ExecuteTime": {
     "end_time": "2024-08-26T18:17:52.713560Z",
     "start_time": "2024-08-26T18:17:52.708990Z"
    }
   },
   "cell_type": "code",
   "source": [
    "prompt_template = \"\"\"\n",
    "Context: {context}\n",
    "\n",
    "Question: {question}\n",
    "\n",
    "Instructions: Provide a clear, concise, and accurate answer to the question based on the context. Make sure to consider all relevant details from the context provided.\n",
    "\"\"\"\n",
    "prompt = ChatPromptTemplate.from_template(prompt_template)\n",
    "prompt.format(\n",
    "    context = \"Marry sister is suannana\",\n",
    "    question= \"who is Marry?\"\n",
    ")"
   ],
   "id": "e8a195a60ed730ed",
   "outputs": [
    {
     "data": {
      "text/plain": [
       "'Human: \\nContext: Marry sister is suannana\\n\\nQuestion: who is Marry?\\n\\nInstructions: Provide a clear, concise, and accurate answer to the question based on the context. Make sure to consider all relevant details from the context provided.\\n'"
      ]
     },
     "execution_count": 8,
     "metadata": {},
     "output_type": "execute_result"
    }
   ],
   "execution_count": 8
  },
  {
   "metadata": {
    "ExecuteTime": {
     "end_time": "2024-08-26T18:09:33.664274Z",
     "start_time": "2024-08-26T18:09:33.650905Z"
    }
   },
   "cell_type": "code",
   "source": [
    "given_models = {\n",
    "    \"1\": \"gpt-3.5-turbo\",\n",
    "    \"2\": \"mixtral:8x7b\",\n",
    "    \"3\": \"llama3.1:8b\",\n",
    "}\n",
    "model_name = given_models['3']\n",
    "llm_models = LLMModels(model_name=model_name)\n",
    "model , embeddings = llm_models.get_llm_model()\n"
   ],
   "id": "8d49710023a55419",
   "outputs": [],
   "execution_count": 2
  },
  {
   "metadata": {
    "ExecuteTime": {
     "end_time": "2024-08-26T18:21:04.829701Z",
     "start_time": "2024-08-26T18:20:12.180364Z"
    }
   },
   "cell_type": "code",
   "source": [
    "sample_message =  \"Hello bruh! This is Monday, March 20.\"\n",
    "chain = prompt | model\n",
    "\n",
    "\n",
    "response_message = chain.invoke({\n",
    "    \"context\" : \"Marry sister is suannana\",\n",
    "    \"question\" :\"who is Marry?\"\n",
    "})"
   ],
   "id": "1553588b4423841f",
   "outputs": [],
   "execution_count": 10
  },
  {
   "metadata": {
    "ExecuteTime": {
     "end_time": "2024-08-26T18:21:17.188815Z",
     "start_time": "2024-08-26T18:21:17.183691Z"
    }
   },
   "cell_type": "code",
   "source": "response_message",
   "id": "1370173eb641fe45",
   "outputs": [
    {
     "data": {
      "text/plain": [
       "'Based on the context that \"Marry sister is [something]\" (and assuming it\\'s a typographical error for \"Mary\"), I will provide an answer.\\n\\nIn this context, \"Marry\" likely means \"Mary\", which is a proper noun, a name. Therefore, the answer to the question \"who is Marry?\" would be:\\n\\nMary'"
      ]
     },
     "execution_count": 11,
     "metadata": {},
     "output_type": "execute_result"
    }
   ],
   "execution_count": 11
  },
  {
   "metadata": {
    "ExecuteTime": {
     "end_time": "2024-08-26T18:21:52.441260Z",
     "start_time": "2024-08-26T18:21:52.422294Z"
    }
   },
   "cell_type": "code",
   "source": "response_message.input",
   "id": "2510b4a1f7bad8c1",
   "outputs": [
    {
     "ename": "AttributeError",
     "evalue": "'str' object has no attribute 'input'",
     "output_type": "error",
     "traceback": [
      "\u001B[0;31m---------------------------------------------------------------------------\u001B[0m",
      "\u001B[0;31mAttributeError\u001B[0m                            Traceback (most recent call last)",
      "Cell \u001B[0;32mIn[14], line 1\u001B[0m\n\u001B[0;32m----> 1\u001B[0m \u001B[43mresponse_message\u001B[49m\u001B[38;5;241;43m.\u001B[39;49m\u001B[43minput\u001B[49m\n",
      "\u001B[0;31mAttributeError\u001B[0m: 'str' object has no attribute 'input'"
     ]
    }
   ],
   "execution_count": 14
  },
  {
   "metadata": {},
   "cell_type": "code",
   "outputs": [],
   "execution_count": null,
   "source": "",
   "id": "30b12d7c1b0699d1"
  }
 ],
 "metadata": {
  "kernelspec": {
   "display_name": "Python 3",
   "language": "python",
   "name": "python3"
  },
  "language_info": {
   "codemirror_mode": {
    "name": "ipython",
    "version": 2
   },
   "file_extension": ".py",
   "mimetype": "text/x-python",
   "name": "python",
   "nbconvert_exporter": "python",
   "pygments_lexer": "ipython2",
   "version": "2.7.6"
  }
 },
 "nbformat": 4,
 "nbformat_minor": 5
}
