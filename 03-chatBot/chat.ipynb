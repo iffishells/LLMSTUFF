{
 "cells": [
  {
   "cell_type": "code",
   "id": "initial_id",
   "metadata": {
    "collapsed": true,
    "ExecuteTime": {
     "end_time": "2024-08-27T11:19:59.769399Z",
     "start_time": "2024-08-27T11:19:59.766066Z"
    }
   },
   "source": [
    "import os\n",
    "from utils import LLMModels\n",
    "from langchain_core.prompts import ChatPromptTemplate\n",
    "from langchain_core.output_parsers import StrOutputParser\n",
    "from langchain_community.document_loaders import PyMuPDFLoader\n",
    "from langchain.text_splitter import RecursiveCharacterTextSplitter\n",
    "from langchain_community.vectorstores import DocArrayInMemorySearch\n",
    "from langchain_core.runnables import RunnableParallel,RunnablePassthrough\n"
   ],
   "outputs": [],
   "execution_count": 9
  },
  {
   "metadata": {
    "ExecuteTime": {
     "end_time": "2024-08-27T11:19:07.315211Z",
     "start_time": "2024-08-27T11:19:06.981293Z"
    }
   },
   "cell_type": "code",
   "source": [
    "temp_file_path = os.path.join('BooksBuckets','Rich Dad Poor Dad.pdf')\n",
    "\n",
    "\n",
    "pdf_loader = PyMuPDFLoader(temp_file_path)\n",
    "\n",
    "text_documents = pdf_loader.load()\n",
    "text_splitter = RecursiveCharacterTextSplitter(chunk_size=1000,\n",
    "    chunk_overlap=500)\n",
    "documents = text_splitter.split_documents(text_documents)"
   ],
   "id": "9076624d2c66f0de",
   "outputs": [],
   "execution_count": 3
  },
  {
   "metadata": {
    "ExecuteTime": {
     "end_time": "2024-08-27T12:26:47.466854Z",
     "start_time": "2024-08-27T12:26:47.463108Z"
    }
   },
   "cell_type": "code",
   "source": [
    "prompt_template = \"\"\"\n",
    "Context: {context}\n",
    "\n",
    "Question: {question}\n",
    "\n",
    "Instructions: Provide a clear, concise, and accurate answer to the question based on the context. Make sure to consider all relevant details from the context provided.\n",
    "\"\"\"\n",
    "prompt = ChatPromptTemplate.from_template(prompt_template)\n",
    "# prompt.format(\n",
    "#     context = documents,\n",
    "#     question= \"who is Marry?\"\n",
    "# )"
   ],
   "id": "e8a195a60ed730ed",
   "outputs": [],
   "execution_count": 24
  },
  {
   "metadata": {
    "ExecuteTime": {
     "end_time": "2024-08-27T11:19:24.157823Z",
     "start_time": "2024-08-27T11:19:23.967203Z"
    }
   },
   "cell_type": "code",
   "source": [
    "given_models = {\n",
    "    \"1\": \"gpt-3.5-turbo\",\n",
    "    \"2\": \"mixtral:8x7b\",\n",
    "    \"3\": \"llama3.1:8b\",\n",
    "}\n",
    "model_name = given_models['1']\n",
    "llm_models = LLMModels(model_name=model_name)\n",
    "model , embeddings = llm_models.get_llm_model()\n"
   ],
   "id": "8d49710023a55419",
   "outputs": [],
   "execution_count": 5
  },
  {
   "metadata": {
    "ExecuteTime": {
     "end_time": "2024-08-27T11:23:47.871589Z",
     "start_time": "2024-08-27T11:23:39.099945Z"
    }
   },
   "cell_type": "code",
   "source": [
    "vector_db = DocArrayInMemorySearch.from_documents(documents, embeddings)\n",
    "retriever = vector_db.as_retriever()"
   ],
   "id": "2606e343b094c3df",
   "outputs": [],
   "execution_count": 15
  },
  {
   "metadata": {
    "ExecuteTime": {
     "end_time": "2024-08-27T12:26:52.709806Z",
     "start_time": "2024-08-27T12:26:52.706840Z"
    }
   },
   "cell_type": "code",
   "source": "# vector_db.similarity_search_with_score(query=\"who was mike\")",
   "id": "6a1e5501ee7441ae",
   "outputs": [],
   "execution_count": 25
  },
  {
   "metadata": {
    "ExecuteTime": {
     "end_time": "2024-08-27T12:26:55.941759Z",
     "start_time": "2024-08-27T12:26:55.937479Z"
    }
   },
   "cell_type": "code",
   "source": "# retriever.invoke(\"who was mike\",k=2)",
   "id": "e937cc3f077f288b",
   "outputs": [],
   "execution_count": 26
  },
  {
   "metadata": {
    "ExecuteTime": {
     "end_time": "2024-08-27T12:27:03.140760Z",
     "start_time": "2024-08-27T12:27:03.137095Z"
    }
   },
   "cell_type": "code",
   "source": [
    "setup = RunnableParallel(\n",
    "    context = retriever,\n",
    "    question= RunnablePassthrough()\n",
    ")\n",
    "# setup.invoke(\"who was mike\")\n"
   ],
   "id": "cd1ac97012ee6f0a",
   "outputs": [],
   "execution_count": 27
  },
  {
   "metadata": {
    "ExecuteTime": {
     "end_time": "2024-08-27T12:27:08.793787Z",
     "start_time": "2024-08-27T12:27:05.559576Z"
    }
   },
   "cell_type": "code",
   "source": [
    "parser = StrOutputParser()\n",
    "# setup_prompt = {\n",
    "#     \"context\": retriever,\n",
    "#     \"question\": RunnablePassthrough(),\n",
    "# }\n",
    "\n",
    "chain = setup | prompt | model | parser\n",
    "# \n",
    "# response_message = chain.invoke({\n",
    "#     \"question\" :\"How poor work for money?\"\n",
    "# })\n",
    "response_message = chain.invoke(\"How poor work for money?\")\n",
    "response_message"
   ],
   "id": "1553588b4423841f",
   "outputs": [
    {
     "data": {
      "text/plain": [
       "'The poor and the middle class work for money by trading their time and skills for a paycheck. They typically rely on traditional employment to earn a living, often working for others in exchange for a salary or wages. This stands in contrast to the rich, who have money work for them through investments and passive income streams.'"
      ]
     },
     "execution_count": 28,
     "metadata": {},
     "output_type": "execute_result"
    }
   ],
   "execution_count": 28
  },
  {
   "metadata": {
    "ExecuteTime": {
     "end_time": "2024-08-27T10:21:52.545276Z",
     "start_time": "2024-08-27T10:21:52.540425Z"
    }
   },
   "cell_type": "code",
   "source": "response_message",
   "id": "1370173eb641fe45",
   "outputs": [
    {
     "data": {
      "text/plain": [
       "AIMessage(content=\"Marry is Suannana's sister.\", additional_kwargs={'refusal': None}, response_metadata={'token_usage': {'completion_tokens': 9, 'prompt_tokens': 56, 'total_tokens': 65}, 'model_name': 'gpt-3.5-turbo-0125', 'system_fingerprint': None, 'finish_reason': 'stop', 'logprobs': None}, id='run-1db0ca71-63c1-404f-8d7f-1655fe5c2def-0', usage_metadata={'input_tokens': 56, 'output_tokens': 9, 'total_tokens': 65})"
      ]
     },
     "execution_count": 5,
     "metadata": {},
     "output_type": "execute_result"
    }
   ],
   "execution_count": 5
  },
  {
   "metadata": {
    "ExecuteTime": {
     "end_time": "2024-08-26T18:21:52.441260Z",
     "start_time": "2024-08-26T18:21:52.422294Z"
    }
   },
   "cell_type": "code",
   "source": "response_message.input",
   "id": "2510b4a1f7bad8c1",
   "outputs": [
    {
     "ename": "AttributeError",
     "evalue": "'str' object has no attribute 'input'",
     "output_type": "error",
     "traceback": [
      "\u001B[0;31m---------------------------------------------------------------------------\u001B[0m",
      "\u001B[0;31mAttributeError\u001B[0m                            Traceback (most recent call last)",
      "Cell \u001B[0;32mIn[14], line 1\u001B[0m\n\u001B[0;32m----> 1\u001B[0m \u001B[43mresponse_message\u001B[49m\u001B[38;5;241;43m.\u001B[39;49m\u001B[43minput\u001B[49m\n",
      "\u001B[0;31mAttributeError\u001B[0m: 'str' object has no attribute 'input'"
     ]
    }
   ],
   "execution_count": 14
  },
  {
   "metadata": {
    "ExecuteTime": {
     "end_time": "2024-08-27T10:59:12.742990Z",
     "start_time": "2024-08-27T10:59:12.738054Z"
    }
   },
   "cell_type": "code",
   "source": "documents[0:10]",
   "id": "30b12d7c1b0699d1",
   "outputs": [
    {
     "data": {
      "text/plain": [
       "[Document(metadata={'source': 'BooksBuckets/Rich Dad Poor Dad.pdf', 'file_path': 'BooksBuckets/Rich Dad Poor Dad.pdf', 'page': 1, 'total_pages': 253, 'format': 'PDF 1.4', 'title': 'Rich Dad Poor Dad', 'author': 'Robert T. Kiyosaki', 'subject': '', 'keywords': '', 'creator': 'calibre (5.20.0) [http://calibre-ebook.com]', 'producer': 'calibre (5.20.0) [http://calibre-ebook.com]', 'creationDate': \"D:20210619182417+00'00'\", 'modDate': \"D:20210619182420+00'00'\", 'trapped': ''}, page_content='“Rich Dad Poor Dad is a starting point for anyone\\nlooking to gain control of their ﬁnancial future.”\\n– USA TODAY'),\n",
       " Document(metadata={'source': 'BooksBuckets/Rich Dad Poor Dad.pdf', 'file_path': 'BooksBuckets/Rich Dad Poor Dad.pdf', 'page': 3, 'total_pages': 253, 'format': 'PDF 1.4', 'title': 'Rich Dad Poor Dad', 'author': 'Robert T. Kiyosaki', 'subject': '', 'keywords': '', 'creator': 'calibre (5.20.0) [http://calibre-ebook.com]', 'producer': 'calibre (5.20.0) [http://calibre-ebook.com]', 'creationDate': \"D:20210619182417+00'00'\", 'modDate': \"D:20210619182420+00'00'\", 'trapped': ''}, page_content='If you purchase this book without a cover, or purchase a PDF\\n, jpg, or tiﬀ copy\\nof this book, it is likely stolen property or a counterfeit. In that case, neither\\nthe authors, the publisher, nor any of their employees or agents has received\\nany payment for the copy\\n. Furthermore, counterfeiting is a known avenue of\\nﬁnancial support for organized crime and terrorist groups. We urge you to\\nplease not purchase any such copy and to report any instance of someone\\nselling such copies to Plata Publishing LLC.\\nThis publication is designed to provide competent and reliable information\\nregarding the subject matter covered. However, it is sold with the\\nunderstanding that the author and publisher are not engaged in rendering\\nlegal, ﬁnancial, or other professional advice. Laws and practices often vary\\nfrom state to state and country to country and if legal or other expert\\nassistance is required, the services of a professional should be sought. The'),\n",
       " Document(metadata={'source': 'BooksBuckets/Rich Dad Poor Dad.pdf', 'file_path': 'BooksBuckets/Rich Dad Poor Dad.pdf', 'page': 3, 'total_pages': 253, 'format': 'PDF 1.4', 'title': 'Rich Dad Poor Dad', 'author': 'Robert T. Kiyosaki', 'subject': '', 'keywords': '', 'creator': 'calibre (5.20.0) [http://calibre-ebook.com]', 'producer': 'calibre (5.20.0) [http://calibre-ebook.com]', 'creationDate': \"D:20210619182417+00'00'\", 'modDate': \"D:20210619182420+00'00'\", 'trapped': ''}, page_content='selling such copies to Plata Publishing LLC.\\nThis publication is designed to provide competent and reliable information\\nregarding the subject matter covered. However, it is sold with the\\nunderstanding that the author and publisher are not engaged in rendering\\nlegal, ﬁnancial, or other professional advice. Laws and practices often vary\\nfrom state to state and country to country and if legal or other expert\\nassistance is required, the services of a professional should be sought. The\\nauthor and publisher speciﬁcally disclaim any liability that is incurred from\\nthe use or application of the contents of this book.\\nCopyright © 2011 by CASHFLOW Technologies, Inc. All rights reserved.\\nExcept as permitted under the U.S. Copyright Act of 1976, no part of this\\npublication may be reproduced, distributed, or transmitted in any form or by\\nany means or stored in a database or retrieval system, without the prior\\nwritten permission of the publisher.\\nPublished by Plata Publishing, LLC\\nCASHFLOW'),\n",
       " Document(metadata={'source': 'BooksBuckets/Rich Dad Poor Dad.pdf', 'file_path': 'BooksBuckets/Rich Dad Poor Dad.pdf', 'page': 3, 'total_pages': 253, 'format': 'PDF 1.4', 'title': 'Rich Dad Poor Dad', 'author': 'Robert T. Kiyosaki', 'subject': '', 'keywords': '', 'creator': 'calibre (5.20.0) [http://calibre-ebook.com]', 'producer': 'calibre (5.20.0) [http://calibre-ebook.com]', 'creationDate': \"D:20210619182417+00'00'\", 'modDate': \"D:20210619182420+00'00'\", 'trapped': ''}, page_content='the use or application of the contents of this book.\\nCopyright © 2011 by CASHFLOW Technologies, Inc. All rights reserved.\\nExcept as permitted under the U.S. Copyright Act of 1976, no part of this\\npublication may be reproduced, distributed, or transmitted in any form or by\\nany means or stored in a database or retrieval system, without the prior\\nwritten permission of the publisher.\\nPublished by Plata Publishing, LLC\\nCASHFLOW\\n, Rich Dad, Rich Dad Advisors, ESBI, and are registered\\ntrademarks of CASHFLOW Technologies, Inc.\\nare registered trademarks of CASHFLOW\\nTechnologies, Inc.\\nPlata Publishing, LLC\\n4330 N. Civic Center Plaza\\nSuite 100\\nScottsdale, AZ 85251\\n(480) 998-6971\\nVisit our websites: PlataPublishing.com and RichDad.com\\nFirst Edition: 1997\\nFirst Plata Publishing Edition: March 2011\\n032014'),\n",
       " Document(metadata={'source': 'BooksBuckets/Rich Dad Poor Dad.pdf', 'file_path': 'BooksBuckets/Rich Dad Poor Dad.pdf', 'page': 4, 'total_pages': 253, 'format': 'PDF 1.4', 'title': 'Rich Dad Poor Dad', 'author': 'Robert T. Kiyosaki', 'subject': '', 'keywords': '', 'creator': 'calibre (5.20.0) [http://calibre-ebook.com]', 'producer': 'calibre (5.20.0) [http://calibre-ebook.com]', 'creationDate': \"D:20210619182417+00'00'\", 'modDate': \"D:20210619182420+00'00'\", 'trapped': ''}, page_content='ISBN: 978-1-61268-018-7\\nCover photo credit: Seymour & Brody Studio'),\n",
       " Document(metadata={'source': 'BooksBuckets/Rich Dad Poor Dad.pdf', 'file_path': 'BooksBuckets/Rich Dad Poor Dad.pdf', 'page': 6, 'total_pages': 253, 'format': 'PDF 1.4', 'title': 'Rich Dad Poor Dad', 'author': 'Robert T. Kiyosaki', 'subject': '', 'keywords': '', 'creator': 'calibre (5.20.0) [http://calibre-ebook.com]', 'producer': 'calibre (5.20.0) [http://calibre-ebook.com]', 'creationDate': \"D:20210619182417+00'00'\", 'modDate': \"D:20210619182420+00'00'\", 'trapped': ''}, page_content='BEST-SELLING BOOKS\\nBY ROBERT T. KIYOSAKI\\nRich Dad Poor Dad\\nWhat the Rich Teach Their Kids About Money – That the Poor and Middle\\nClass Do Not\\nRich Dad’s CASHFLOW Quadrant\\nGuide to Financial Freedom\\nRich Dad’s Guide to Investing\\nWhat the Rich Invest in That the Poor and Middle Class Do Not\\nRich Dad’s Rich Kid Smart Kid\\nGive Your Child a Financial Head Start\\nRich Dad’s Retire Young Retire Rich\\nHow to Get Rich and Stay Rich\\nRich Dad’s Prophecy\\nWhy the Biggest Stock Market Crash in History Is Still Coming…\\nAnd How You Can Prepare Yourself and Proﬁt from It!\\nRich Dad’s Success Stories\\nReal-Life Success Stories from Real-Life People Who Followed the Rich Dad\\nLessons\\nRich Dad’s Guide to Becoming Rich Without Cutting Up Your Credit\\nCards\\nTurn Bad Debt into Good Debt\\nRich Dad’s Who Took My Money?\\nWhy Slow Investors Lose and Fast Money Wins!\\nRich Dad Poor Dad for Teens\\nThe Secrets About Money – That You Don’t Learn In School!\\nEscape the Rat Race\\nLearn How Money Works and Become a Rich Kid'),\n",
       " Document(metadata={'source': 'BooksBuckets/Rich Dad Poor Dad.pdf', 'file_path': 'BooksBuckets/Rich Dad Poor Dad.pdf', 'page': 6, 'total_pages': 253, 'format': 'PDF 1.4', 'title': 'Rich Dad Poor Dad', 'author': 'Robert T. Kiyosaki', 'subject': '', 'keywords': '', 'creator': 'calibre (5.20.0) [http://calibre-ebook.com]', 'producer': 'calibre (5.20.0) [http://calibre-ebook.com]', 'creationDate': \"D:20210619182417+00'00'\", 'modDate': \"D:20210619182420+00'00'\", 'trapped': ''}, page_content='And How You Can Prepare Yourself and Proﬁt from It!\\nRich Dad’s Success Stories\\nReal-Life Success Stories from Real-Life People Who Followed the Rich Dad\\nLessons\\nRich Dad’s Guide to Becoming Rich Without Cutting Up Your Credit\\nCards\\nTurn Bad Debt into Good Debt\\nRich Dad’s Who Took My Money?\\nWhy Slow Investors Lose and Fast Money Wins!\\nRich Dad Poor Dad for Teens\\nThe Secrets About Money – That You Don’t Learn In School!\\nEscape the Rat Race\\nLearn How Money Works and Become a Rich Kid\\nRich Dad’s Before You Quit Your Job\\nTen Real-Life Lessons Every Entrepreneur Should Know About Building a\\nMultimillion-Dollar Business\\nRich Dad’s Increase Your Financial IQ\\nGet Smarter with Your Money\\nRobert Kiyosaki’s Conspiracy of the Rich\\nThe 8 New Rules of Money\\nUnfair Advantage\\nThe Power of Financial Education'),\n",
       " Document(metadata={'source': 'BooksBuckets/Rich Dad Poor Dad.pdf', 'file_path': 'BooksBuckets/Rich Dad Poor Dad.pdf', 'page': 7, 'total_pages': 253, 'format': 'PDF 1.4', 'title': 'Rich Dad Poor Dad', 'author': 'Robert T. Kiyosaki', 'subject': '', 'keywords': '', 'creator': 'calibre (5.20.0) [http://calibre-ebook.com]', 'producer': 'calibre (5.20.0) [http://calibre-ebook.com]', 'creationDate': \"D:20210619182417+00'00'\", 'modDate': \"D:20210619182420+00'00'\", 'trapped': ''}, page_content='Why “A” Students Work for “C” Students\\nRich Dad’s Guide to Financial Education for Parents'),\n",
       " Document(metadata={'source': 'BooksBuckets/Rich Dad Poor Dad.pdf', 'file_path': 'BooksBuckets/Rich Dad Poor Dad.pdf', 'page': 8, 'total_pages': 253, 'format': 'PDF 1.4', 'title': 'Rich Dad Poor Dad', 'author': 'Robert T. Kiyosaki', 'subject': '', 'keywords': '', 'creator': 'calibre (5.20.0) [http://calibre-ebook.com]', 'producer': 'calibre (5.20.0) [http://calibre-ebook.com]', 'creationDate': \"D:20210619182417+00'00'\", 'modDate': \"D:20210619182420+00'00'\", 'trapped': ''}, page_content='To parents everywhere, a child’s ﬁrst and most important\\nteachers, and to all those who educate, inﬂuence, and lead\\nby example'),\n",
       " Document(metadata={'source': 'BooksBuckets/Rich Dad Poor Dad.pdf', 'file_path': 'BooksBuckets/Rich Dad Poor Dad.pdf', 'page': 9, 'total_pages': 253, 'format': 'PDF 1.4', 'title': 'Rich Dad Poor Dad', 'author': 'Robert T. Kiyosaki', 'subject': '', 'keywords': '', 'creator': 'calibre (5.20.0) [http://calibre-ebook.com]', 'producer': 'calibre (5.20.0) [http://calibre-ebook.com]', 'creationDate': \"D:20210619182417+00'00'\", 'modDate': \"D:20210619182420+00'00'\", 'trapped': ''}, page_content='Acknowledgments\\nHow does a person say “thank you” when there are\\nso many people to thank? Obviously this book is a\\nthank you to my two fathers, who were powerful role\\nmodels, and to my mom, who taught me love and\\nkindness.\\nThe person most responsible for this book\\nbecoming a reality is my wife Kim—my partner in\\nmarriage, business, and in life. She makes my life\\ncomplete.')]"
      ]
     },
     "execution_count": 39,
     "metadata": {},
     "output_type": "execute_result"
    }
   ],
   "execution_count": 39
  },
  {
   "metadata": {
    "ExecuteTime": {
     "end_time": "2024-08-27T13:05:15.569830Z",
     "start_time": "2024-08-27T13:05:15.084165Z"
    }
   },
   "cell_type": "code",
   "source": [
    "from app.adoptors.pinecone_client import PineconeClient\n",
    "from tqdm.autonotebook import tqdm\n",
    "pinecone = PineconeClient()\n",
    "pinecone.create_index(index_name=\"testing\")"
   ],
   "id": "d100257a60acff",
   "outputs": [
    {
     "name": "stdout",
     "output_type": "stream",
     "text": [
      "index name : testing Index is already in Pinecone \n"
     ]
    }
   ],
   "execution_count": 2
  },
  {
   "metadata": {},
   "cell_type": "code",
   "outputs": [],
   "execution_count": null,
   "source": "",
   "id": "eb7bd773114141a5"
  }
 ],
 "metadata": {
  "kernelspec": {
   "display_name": "Python 3",
   "language": "python",
   "name": "python3"
  },
  "language_info": {
   "codemirror_mode": {
    "name": "ipython",
    "version": 2
   },
   "file_extension": ".py",
   "mimetype": "text/x-python",
   "name": "python",
   "nbconvert_exporter": "python",
   "pygments_lexer": "ipython2",
   "version": "2.7.6"
  }
 },
 "nbformat": 4,
 "nbformat_minor": 5
}
