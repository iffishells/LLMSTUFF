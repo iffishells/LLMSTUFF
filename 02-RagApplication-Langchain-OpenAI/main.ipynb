{
 "cells": [
  {
   "cell_type": "code",
   "id": "initial_id",
   "metadata": {
    "collapsed": true,
    "ExecuteTime": {
     "end_time": "2024-08-25T05:40:58.350211Z",
     "start_time": "2024-08-25T05:40:57.273684Z"
    }
   },
   "source": "from APP.adoptors.LLMModels import LLMModels",
   "outputs": [],
   "execution_count": 1
  },
  {
   "metadata": {
    "ExecuteTime": {
     "end_time": "2024-08-25T05:43:49.231807Z",
     "start_time": "2024-08-25T05:43:49.224617Z"
    }
   },
   "cell_type": "code",
   "source": [
    "given_models = {\n",
    "    \"1\":\"gpt-3.5-turbo\",\n",
    "    \"2\":\"mixtral:8x7b\",\n",
    "    \"3\": \"llama3.1:8b\",\n",
    "}\n",
    "llm_model = LLMModels(model_name=given_models[\"3\"]\n",
    ")\n",
    "model , embeddings = llm_model.get_llm_model()"
   ],
   "id": "97291211370b502e",
   "outputs": [],
   "execution_count": 5
  },
  {
   "metadata": {
    "ExecuteTime": {
     "end_time": "2024-08-25T05:43:52.834919Z",
     "start_time": "2024-08-25T05:43:52.829499Z"
    }
   },
   "cell_type": "code",
   "source": "model",
   "id": "6560073cc34370c",
   "outputs": [
    {
     "data": {
      "text/plain": [
       "Ollama(model='llama3.1:8b')"
      ]
     },
     "execution_count": 6,
     "metadata": {},
     "output_type": "execute_result"
    }
   ],
   "execution_count": 6
  },
  {
   "metadata": {},
   "cell_type": "code",
   "outputs": [],
   "execution_count": null,
   "source": "",
   "id": "e782917f57a5f6b7"
  }
 ],
 "metadata": {
  "kernelspec": {
   "display_name": "Python 3",
   "language": "python",
   "name": "python3"
  },
  "language_info": {
   "codemirror_mode": {
    "name": "ipython",
    "version": 2
   },
   "file_extension": ".py",
   "mimetype": "text/x-python",
   "name": "python",
   "nbconvert_exporter": "python",
   "pygments_lexer": "ipython2",
   "version": "2.7.6"
  }
 },
 "nbformat": 4,
 "nbformat_minor": 5
}
