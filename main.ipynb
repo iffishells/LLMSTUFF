{
 "cells": [
  {
   "metadata": {
    "ExecuteTime": {
     "end_time": "2024-08-24T14:28:22.171540Z",
     "start_time": "2024-08-24T14:28:22.165583Z"
    }
   },
   "cell_type": "code",
   "source": [
    "import os\n",
    "from dotenv import load_dotenv\n",
    "from operator import itemgetter\n",
    "import glob\n",
    "load_dotenv()\n",
    "OPEN_API_KEY = os.getenv(\"OPEN_API_KEY\")\n",
    "\n",
    "MODEL = \"gpt-3.5-turbo\"\n",
    "MODEL = \"mixtral:8x7b\"\n",
    "MODEL = \"llama3.1:8b\""
   ],
   "id": "c8453258a325e2c7",
   "outputs": [],
   "execution_count": 42
  },
  {
   "metadata": {
    "ExecuteTime": {
     "end_time": "2024-08-24T14:23:25.256090Z",
     "start_time": "2024-08-24T14:23:25.252342Z"
    }
   },
   "cell_type": "code",
   "source": [
    "if OPEN_API_KEY is None:\n",
    "    raise ValueError(\"API key not found. Make sure .env file is present and properly configured.\")\n"
   ],
   "id": "cbe9b61838d0fbd",
   "outputs": [],
   "execution_count": 37
  },
  {
   "metadata": {
    "ExecuteTime": {
     "end_time": "2024-08-24T14:31:11.614542Z",
     "start_time": "2024-08-24T14:31:11.590548Z"
    }
   },
   "cell_type": "code",
   "source": [
    "from glob import glob\n",
    "from langchain_community.document_loaders import PyMuPDFLoader\n",
    "\n",
    "# List of PDF file paths\n",
    "pdf_files = glob('Documents/*.pdf')\n",
    "\n",
    "# Initialize an empty list to hold all pages\n",
    "all_pages = []\n",
    "\n",
    "# Iterate over each PDF file\n",
    "for pdf_file in pdf_files:\n",
    "    loader = PyMuPDFLoader(pdf_file)\n",
    "    pages = loader.load_and_split()\n",
    "    all_pages.extend(pages)  # Add the pages to the list\n",
    "\n",
    "# Now `all_pages` contains the pages from all PDF files\n"
   ],
   "id": "5f5fcc71446ebbc0",
   "outputs": [],
   "execution_count": 50
  },
  {
   "metadata": {
    "ExecuteTime": {
     "end_time": "2024-08-24T14:31:34.573561Z",
     "start_time": "2024-08-24T14:31:26.628467Z"
    }
   },
   "cell_type": "code",
   "source": [
    "from langchain_openai.chat_models import ChatOpenAI\n",
    "from langchain_openai.embeddings import OpenAIEmbeddings\n",
    "from langchain_community.llms import Ollama\n",
    "from langchain_community.embeddings import OllamaEmbeddings\n",
    "from langchain_core.output_parsers import StrOutputParser\n",
    "from langchain.prompts import PromptTemplate\n",
    "from langchain_community.document_loaders import PyMuPDFLoader\n",
    "\n",
    "template = \"\"\"\n",
    "Answer the question bases on the context below. if you can't answer the question , replay \"I don't know what you meant.\"\n",
    "\n",
    "context : {context}\n",
    "Question: {question}\n",
    "\"\"\"\n",
    "prompt = PromptTemplate.from_template(template)\n",
    "prompt.format(context=\"here is the some context \",\n",
    "              question = \"here is the question\")\n",
    "# \n",
    "# loader = PyMuPDFLoader(pdf_files)\n",
    "# pages = loader.load_and_split()\n",
    "\n",
    "\n",
    "if MODEL.startswith('gpt'):\n",
    "    model = ChatOpenAI(\n",
    "        api_key=OPEN_API_KEY,\n",
    "        model=MODEL\n",
    "    )\n",
    "    embeddings  = OpenAIEmbeddings(\n",
    "        api_key=OPEN_API_KEY\n",
    "    )\n",
    "else:\n",
    "    model = Ollama(\n",
    "        model = MODEL\n",
    "    )\n",
    "    embeddings = OllamaEmbeddings(\n",
    "        model = MODEL\n",
    "    )\n",
    "\n",
    "from langchain_community.vectorstores import DocArrayInMemorySearch\n",
    "db = DocArrayInMemorySearch.from_documents(all_pages, embeddings)\n",
    "retriever = db.as_retriever()\n",
    "\n",
    "    \n",
    "parser = StrOutputParser()\n",
    "chain = prompt| model | parser\n",
    "\n",
    "chain = (\n",
    "    {\n",
    "        \"context\": itemgetter(\"question\") | retriever,\n",
    "        \"question\": itemgetter(\"question\") ,\n",
    "    }| \n",
    "    prompt | model | parser\n",
    "    \n",
    ")"
   ],
   "id": "5a58903500858bf",
   "outputs": [],
   "execution_count": 52
  },
  {
   "metadata": {
    "ExecuteTime": {
     "end_time": "2024-08-24T14:32:20.165451Z",
     "start_time": "2024-08-24T14:32:01.499078Z"
    }
   },
   "cell_type": "code",
   "source": [
    "from operator import itemgetter\n",
    "questions = [\n",
    "    \"what is my name?\",\n",
    "    \"what is my email address?\"\n",
    "    \"what is docker?\"\n",
    "]\n",
    "for question in questions:\n",
    "    print(\"Question:\", question)\n",
    "    answer = chain.invoke(\n",
    "    {\n",
    "        \"question\": question\n",
    "    }\n",
    "    )\n",
    "    print(\"Answer: {answer}\".format(answer=answer))\n",
    "\n"
   ],
   "id": "a5c0a1b7d4abb686",
   "outputs": [
    {
     "name": "stdout",
     "output_type": "stream",
     "text": [
      "Question: what is my name?\n",
      "Answer: I don't know what you meant.\n",
      "Question: what is my email address?what is docker?\n",
      "Answer: Two separate questions!\n",
      "\n",
      "For the first question:\n",
      "Your email address is iffishells@gmail.com.\n",
      "\n",
      "And for the second question:\n",
      "Docker is a tool designed to make it easier to create and deploy, and run applications by using containers. Containers allow a developer to package an application and its dependencies in a single file, called an image, which can be easily run on any system that has Docker installed, without requiring manual installation of libraries or frameworks.\n"
     ]
    }
   ],
   "execution_count": 54
  },
  {
   "metadata": {
    "ExecuteTime": {
     "end_time": "2024-08-24T14:20:52.410683Z",
     "start_time": "2024-08-24T14:20:50.023263Z"
    }
   },
   "cell_type": "code",
   "source": "\n",
   "id": "77d46e63159283a3",
   "outputs": [
    {
     "data": {
      "text/plain": [
       "'Muhammad iftikhar'"
      ]
     },
     "execution_count": 35,
     "metadata": {},
     "output_type": "execute_result"
    }
   ],
   "execution_count": 35
  },
  {
   "metadata": {
    "ExecuteTime": {
     "end_time": "2024-08-24T14:09:03.099603Z",
     "start_time": "2024-08-24T14:09:03.096990Z"
    }
   },
   "cell_type": "code",
   "source": "# retriever.invoke(\"what is openai\")",
   "id": "f17072dc69399854",
   "outputs": [],
   "execution_count": 20
  },
  {
   "metadata": {
    "ExecuteTime": {
     "end_time": "2024-08-24T14:10:59.963767Z",
     "start_time": "2024-08-24T14:10:59.960074Z"
    }
   },
   "cell_type": "code",
   "source": "",
   "id": "81dae090ae13b7d6",
   "outputs": [],
   "execution_count": 25
  },
  {
   "metadata": {
    "ExecuteTime": {
     "end_time": "2024-08-24T14:11:02.536292Z",
     "start_time": "2024-08-24T14:11:00.576038Z"
    }
   },
   "cell_type": "code",
   "source": "",
   "id": "2aa7c520d76a3d80",
   "outputs": [
    {
     "data": {
      "text/plain": [
       "'Muhammad iftikhar'"
      ]
     },
     "execution_count": 26,
     "metadata": {},
     "output_type": "execute_result"
    }
   ],
   "execution_count": 26
  },
  {
   "metadata": {
    "ExecuteTime": {
     "end_time": "2024-08-24T12:53:10.330324Z",
     "start_time": "2024-08-24T12:53:10.250694Z"
    }
   },
   "cell_type": "code",
   "source": "",
   "id": "2d15e8cbeb414269",
   "outputs": [],
   "execution_count": 23
  },
  {
   "metadata": {},
   "cell_type": "code",
   "outputs": [],
   "execution_count": null,
   "source": "",
   "id": "fc117883fa59a2d8"
  }
 ],
 "metadata": {
  "kernelspec": {
   "display_name": "Python 3",
   "language": "python",
   "name": "python3"
  },
  "language_info": {
   "codemirror_mode": {
    "name": "ipython",
    "version": 2
   },
   "file_extension": ".py",
   "mimetype": "text/x-python",
   "name": "python",
   "nbconvert_exporter": "python",
   "pygments_lexer": "ipython2",
   "version": "2.7.6"
  }
 },
 "nbformat": 4,
 "nbformat_minor": 5
}
